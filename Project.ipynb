{
 "cells": [
  {
   "cell_type": "markdown",
   "metadata": {},
   "source": [
    "# COMP30027 Machine Learning Project 2"
   ]
  },
  {
   "cell_type": "markdown",
   "metadata": {},
   "source": [
    "## Imports"
   ]
  },
  {
   "cell_type": "code",
   "execution_count": 1,
   "metadata": {},
   "outputs": [],
   "source": [
    "import math\n",
    "import numpy as np\n",
    "import pandas as pd\n",
    "\n",
    "from sklearn.ensemble import AdaBoostClassifier, RandomForestClassifier\n",
    "from sklearn.naive_bayes import GaussianNB\n",
    "from sklearn.neural_network import BernoulliRBM, MLPClassifier\n",
    "from sklearn.neighbors import KNeighborsClassifier\n",
    "from sklearn.preprocessing import LabelEncoder"
   ]
  },
  {
   "cell_type": "markdown",
   "metadata": {},
   "source": [
    "## Load Datasets"
   ]
  },
  {
   "cell_type": "code",
   "execution_count": 2,
   "metadata": {},
   "outputs": [],
   "source": [
    "train_raw = pd.read_csv(\"./Data/train_raw.csv\", header=None, na_values='?', keep_default_na=False, usecols=[0, 2, 6]).values\n",
    "train_top10 = pd.read_csv(\"./Data/train_top10.csv\", header=None, na_values='?', keep_default_na=False).values\n",
    "\n",
    "dev_raw = pd.read_csv(\"./Data/dev_raw.csv\", header=None, na_values='?', keep_default_na=False, usecols=[0, 2, 6]).values\n",
    "dev_top10 = pd.read_csv(\"./Data/dev_top10.csv\", header=None, na_values='?', keep_default_na=False).values\n",
    "\n",
    "test_raw = pd.read_csv(\"./Data/test_raw.csv\", header=None, na_values='?', keep_default_na=False, usecols=[0, 2, 6]).values\n",
    "test_top10 = pd.read_csv(\"./Data/test_top10.csv\", header=None, na_values='?', keep_default_na=False).values"
   ]
  },
  {
   "cell_type": "markdown",
   "metadata": {},
   "source": [
    "# Encoder"
   ]
  },
  {
   "cell_type": "markdown",
   "metadata": {},
   "source": [
    "## Train\n",
    "### k-NN"
   ]
  },
  {
   "cell_type": "code",
   "execution_count": null,
   "metadata": {},
   "outputs": [
    {
     "name": "stdout",
     "output_type": "stream",
     "text": [
      "k: 2500 score: 0.430424424247772\n",
      "k: 2501 score: 0.430424424247772\n",
      "k: 2502 score: 0.430424424247772\n",
      "k: 2503 score: 0.430424424247772\n",
      "k: 2504 score: 0.430424424247772\n",
      "k: 2505 score: 0.430424424247772\n",
      "k: 2506 score: 0.430424424247772\n",
      "k: 2507 score: 0.430424424247772\n",
      "k: 2508 score: 0.430424424247772\n",
      "k: 2509 score: 0.430424424247772\n",
      "k: 2510 score: 0.4304023647754346\n",
      "k: 2511 score: 0.4304023647754346\n",
      "k: 2512 score: 0.4304023647754346\n",
      "k: 2513 score: 0.4304023647754346\n",
      "k: 2514 score: 0.4304023647754346\n",
      "k: 2515 score: 0.4304023647754346\n",
      "k: 2516 score: 0.4304023647754346\n",
      "k: 2517 score: 0.4304023647754346\n",
      "k: 2518 score: 0.4304023647754346\n",
      "k: 2519 score: 0.4304023647754346\n",
      "k: 2520 score: 0.4304023647754346\n",
      "k: 2521 score: 0.4304023647754346\n",
      "k: 2522 score: 0.4304023647754346\n",
      "k: 2523 score: 0.4304023647754346\n",
      "k: 2524 score: 0.4304023647754346\n",
      "k: 2525 score: 0.4304023647754346\n",
      "k: 2526 score: 0.4304023647754346\n",
      "k: 2527 score: 0.4304023647754346\n",
      "k: 2528 score: 0.4304023647754346\n",
      "k: 2529 score: 0.4304023647754346\n",
      "k: 2530 score: 0.430424424247772\n",
      "k: 2531 score: 0.430424424247772\n",
      "k: 2532 score: 0.4304023647754346\n",
      "k: 2533 score: 0.4304023647754346\n",
      "k: 2534 score: 0.4304023647754346\n",
      "k: 2535 score: 0.4304023647754346\n",
      "k: 2536 score: 0.430424424247772\n",
      "k: 2537 score: 0.4304023647754346\n",
      "k: 2538 score: 0.4304023647754346\n",
      "k: 2539 score: 0.4304023647754346\n",
      "k: 2540 score: 0.4304023647754346\n"
     ]
    }
   ],
   "source": [
    "cf1 = KNeighborsClassifier(10, \"distance\", n_jobs=-1)\n",
    "cf1.fit(train_top10[:, 1:31], train_top10[:, 31])\n",
    "best = None\n",
    "cf1 = KNeighborsClassifier(0, \"distance\", n_jobs=-1)\n",
    "for k in range(2500, int(math.sqrt(train_top10.size))):\n",
    "    cf1.set_params(n_neighbors=k)\n",
    "    cf1.fit(train_top10[:, 1:31], train_top10[:, 31])\n",
    "    t = cf1.predict(dev_top10[:, 1:31]) == dev_top10[:, 31]\n",
    "    t = np.bincount(t)\n",
    "    s = t[1] / (t[0] + t[1])\n",
    "    print(f\"k: {k} score: {s}\")\n",
    "    if best is None or s > best:\n",
    "        best = s\n",
    "        bestk = k\n",
    "cf1.set_params(n_neighbors=bestk)"
   ]
  },
  {
   "cell_type": "markdown",
   "metadata": {},
   "source": [
    "### Gaussian Naive Bayes"
   ]
  },
  {
   "cell_type": "code",
   "execution_count": null,
   "metadata": {},
   "outputs": [],
   "source": [
    "cf2 = GaussianNB()\n",
    "cf2.fit(train_top10[:, 1:31], train_top10[:, 31])\n",
    "t = cf2.predict(dev_top10[:, 1:31]) == dev_top10[:, 31]\n",
    "t = np.bincount(t)\n",
    "s = t[1] / (t[0] + t[1])\n",
    "print(f\"score: {s}\")"
   ]
  },
  {
   "cell_type": "markdown",
   "metadata": {},
   "source": [
    "### Random Decision Forest Classifier"
   ]
  },
  {
   "cell_type": "code",
   "execution_count": null,
   "metadata": {},
   "outputs": [],
   "source": [
    "cf3 = RandomForestClassifier()\n",
    "cf3.fit(train_top10[:, 1:31], train_top10[:, 31])\n",
    "t = cf3.predict(dev_top10[:, 1:31]) == dev_top10[:, 31]\n",
    "t = np.bincount(t)\n",
    "s = t[1] / (t[0] + t[1])\n",
    "print(f\"score: {s}\")"
   ]
  },
  {
   "cell_type": "markdown",
   "metadata": {},
   "source": [
    "### Multilayer Perceptron Classifier"
   ]
  },
  {
   "cell_type": "code",
   "execution_count": null,
   "metadata": {},
   "outputs": [],
   "source": [
    "cf4 = MLPClassifier()\n",
    "cf4.fit(train_top10[:, 1:31], train_top10[:, 31])\n",
    "t = cf4.predict(dev_top10[:, 1:31]) == dev_top10[:, 31]\n",
    "t = np.bincount(t)\n",
    "s = t[1] / (t[0] + t[1])\n",
    "print(f\"score: {s}\")"
   ]
  },
  {
   "cell_type": "markdown",
   "metadata": {},
   "source": [
    "### Ada Boost Classifier with Decision Tree _(default)_"
   ]
  },
  {
   "cell_type": "code",
   "execution_count": null,
   "metadata": {},
   "outputs": [],
   "source": [
    "cf5 = AdaBoostClassifier(n_estimators=100)\n",
    "cf5.fit(train_top10[:, 1:31], train_top10[:, 31])\n",
    "t = cf5.predict(dev_top10[:, 1:31]) == dev_top10[:, 31]\n",
    "t = np.bincount(t)\n",
    "s = t[1] / (t[0] + t[1])\n",
    "print(f\"score: {s}\")"
   ]
  },
  {
   "cell_type": "code",
   "execution_count": null,
   "metadata": {},
   "outputs": [],
   "source": []
  }
 ],
 "metadata": {
  "kernelspec": {
   "display_name": "Python 3",
   "language": "python",
   "name": "python3"
  },
  "language_info": {
   "codemirror_mode": {
    "name": "ipython",
    "version": 3
   },
   "file_extension": ".py",
   "mimetype": "text/x-python",
   "name": "python",
   "nbconvert_exporter": "python",
   "pygments_lexer": "ipython3",
   "version": "3.6.5"
  }
 },
 "nbformat": 4,
 "nbformat_minor": 2
}
