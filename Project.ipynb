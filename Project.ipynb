{
 "cells": [
  {
   "cell_type": "markdown",
   "metadata": {},
   "source": [
    "# COMP30027 Machine Learning Project 2"
   ]
  },
  {
   "cell_type": "markdown",
   "metadata": {},
   "source": [
    "## Imports"
   ]
  },
  {
   "cell_type": "code",
   "execution_count": 26,
   "metadata": {},
   "outputs": [],
   "source": [
    "import numpy as np\n",
    "import pandas as pd\n",
    "\n",
    "from sklearn.ensemble import RandomForestClassifier\n",
    "from sklearn.naive_bayes import GaussianNB\n",
    "from sklearn.neural_network import BernoulliRBM, MLPClassifier\n",
    "from sklearn.neighbors import KNeighborsClassifier\n",
    "from sklearn.preprocessing import LabelEncoder"
   ]
  },
  {
   "cell_type": "markdown",
   "metadata": {},
   "source": [
    "## Load Datasets"
   ]
  },
  {
   "cell_type": "code",
   "execution_count": 2,
   "metadata": {},
   "outputs": [],
   "source": [
    "train_raw = pd.read_csv(\"./Data/train_raw.csv\", header=None, na_values='?', keep_default_na=False, usecols=[0, 2, 6]).values\n",
    "train_top10 = pd.read_csv(\"./Data/train_top10.csv\", header=None, na_values='?', keep_default_na=False).values\n",
    "\n",
    "dev_raw = pd.read_csv(\"./Data/dev_raw.csv\", header=None, na_values='?', keep_default_na=False, usecols=[0, 2, 6]).values\n",
    "dev_top10 = pd.read_csv(\"./Data/dev_top10.csv\", header=None, na_values='?', keep_default_na=False).values\n",
    "\n",
    "test_raw = pd.read_csv(\"./Data/test_raw.csv\", header=None, na_values='?', keep_default_na=False, usecols=[0, 2, 6]).values\n",
    "test_top10 = pd.read_csv(\"./Data/test_top10.csv\", header=None, na_values='?', keep_default_na=False).values"
   ]
  },
  {
   "cell_type": "markdown",
   "metadata": {},
   "source": [
    "# Encoder"
   ]
  },
  {
   "cell_type": "markdown",
   "metadata": {},
   "source": [
    "## Train\n",
    "### k-NN"
   ]
  },
  {
   "cell_type": "code",
   "execution_count": 3,
   "metadata": {},
   "outputs": [
    {
     "data": {
      "text/plain": [
       "KNeighborsClassifier(algorithm='auto', leaf_size=30, metric='minkowski',\n",
       "           metric_params=None, n_jobs=-1, n_neighbors=10, p=2,\n",
       "           weights='distance')"
      ]
     },
     "execution_count": 3,
     "metadata": {},
     "output_type": "execute_result"
    }
   ],
   "source": [
    "cf1 = KNeighborsClassifier(10, \"distance\", n_jobs=-1)\n",
    "cf1.fit(train_top10[:, 1:31], train_top10[:, 31])"
   ]
  },
  {
   "cell_type": "code",
   "execution_count": null,
   "metadata": {},
   "outputs": [],
   "source": [
    "best = None\n",
    "cf1 = KNeighborsClassifier(0, \"distance\", n_jobs=-1)\n",
    "for k in range(1, 101):\n",
    "    cf1.set_params(n_neighbors=k)\n",
    "    cf1.fit(train_top10[:, 1:31], train_top10[:, 31])\n",
    "    t = cf1.predict(dev_top10[:, 1:31]) == dev_top10[:, 31]\n",
    "    t = np.bincount(t)\n",
    "    s = t[1] / (t[0] + t[1])\n",
    "    print(f\"k: {k} score: {s}\")\n",
    "    if best is None or s > best:\n",
    "        best = s\n",
    "        bestk = k\n",
    "cf1.set_params(n_neighbors=bestk)"
   ]
  },
  {
   "cell_type": "markdown",
   "metadata": {},
   "source": [
    "### Gaussian Naive Bayes"
   ]
  },
  {
   "cell_type": "code",
   "execution_count": null,
   "metadata": {},
   "outputs": [],
   "source": [
    "cf2 = GaussianNB()\n",
    "cf2.fit(train_top10[:, 1:31], train_top10[:, 31])\n",
    "t = cf2.predict(dev_top10[:, 1:31]) == dev_top10[:, 31]\n",
    "t = np.bincount(t)\n",
    "s = t[1] / (t[0] + t[1])\n",
    "print(f\"score: {s}\")"
   ]
  },
  {
   "cell_type": "markdown",
   "metadata": {},
   "source": [
    "### Random Decision Forest Classifier"
   ]
  },
  {
   "cell_type": "code",
   "execution_count": 24,
   "metadata": {},
   "outputs": [
    {
     "name": "stdout",
     "output_type": "stream",
     "text": [
      "score: 0.4338877614047472\n"
     ]
    }
   ],
   "source": [
    "cf3 = RandomForestClassifier()\n",
    "cf3.fit(train_top10[:, 1:31], train_top10[:, 31])\n",
    "t = cf3.predict(dev_top10[:, 1:31]) == dev_top10[:, 31]\n",
    "t = np.bincount(t)\n",
    "s = t[1] / (t[0] + t[1])\n",
    "print(f\"score: {s}\")"
   ]
  },
  {
   "cell_type": "markdown",
   "metadata": {},
   "source": [
    "### Multilayer Perceptron Classifier"
   ]
  },
  {
   "cell_type": "code",
   "execution_count": 12,
   "metadata": {},
   "outputs": [
    {
     "name": "stdout",
     "output_type": "stream",
     "text": [
      "score: 0.4341965940174711\n"
     ]
    }
   ],
   "source": [
    "cf4 = MLPClassifier()\n",
    "cf4.fit(train_top10[:, 1:31], train_top10[:, 31])\n",
    "t = cf4.predict(dev_top10[:, 1:31]) == dev_top10[:, 31]\n",
    "t = np.bincount(t)\n",
    "s = t[1] / (t[0] + t[1])\n",
    "print(f\"score: {s}\")"
   ]
  },
  {
   "cell_type": "code",
   "execution_count": null,
   "metadata": {},
   "outputs": [],
   "source": []
  }
 ],
 "metadata": {
  "kernelspec": {
   "display_name": "Python 3",
   "language": "python",
   "name": "python3"
  },
  "language_info": {
   "codemirror_mode": {
    "name": "ipython",
    "version": 3
   },
   "file_extension": ".py",
   "mimetype": "text/x-python",
   "name": "python",
   "nbconvert_exporter": "python",
   "pygments_lexer": "ipython3",
   "version": "3.6.5"
  }
 },
 "nbformat": 4,
 "nbformat_minor": 2
}
